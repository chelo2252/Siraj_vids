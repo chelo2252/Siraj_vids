{
 "cells": [
  {
   "cell_type": "markdown",
   "metadata": {},
   "source": [
    "**textblob:** TextBlob is a Python (2 and 3) library for processing textual data. It provides a simple API for diving into common natural language processing (NLP) tasks such as part-of-speech tagging, noun phrase extraction, sentiment analysis, classification, translation, and more\n",
    "\n",
    "**tweepy:** An easy-to-use Python library for accessing the Twitter API."
   ]
  },
  {
   "cell_type": "code",
   "execution_count": null,
   "metadata": {},
   "outputs": [],
   "source": [
    "import tweepy\n",
    "from textblob import TextBlob\n",
    "import csv\n",
    "\n",
    "consumer_key = ''\n",
    "consumer_secret = ''\n",
    "\n",
    "access_token = ''\n",
    "access_token_secret = ''\n",
    "\n",
    "auth = tweepy.OAuthHandler(consumer_key, consumer_secret)\n",
    "auth.set_access_token(access_token,access_token_secret)\n",
    "\n",
    "# Construct the API instance\n",
    "api = tweepy.API(auth)"
   ]
  },
  {
   "cell_type": "code",
   "execution_count": null,
   "metadata": {},
   "outputs": [],
   "source": [
    "tweets = []\n",
    "for i in range(20):\n",
    "    tweets.extend(api.search('Google',lang=[\"en\"], tweet_mode=\"extended\"))"
   ]
  },
  {
   "cell_type": "code",
   "execution_count": null,
   "metadata": {},
   "outputs": [],
   "source": [
    "data = []\n",
    "for tweet in tweets:\n",
    "\n",
    "    text = ''\n",
    "    if 'retweeted_status' in tweet._json:\n",
    "        text = tweet._json['retweeted_status']['full_text']\n",
    "    else:\n",
    "        text = tweet._json['full_text']\n",
    "\n",
    "    blob = TextBlob(text)\n",
    "    \n",
    "    sentiment = ''\n",
    "    if blob.sentiment.polarity >= 0.5:\n",
    "        sentiment = 'positive'\n",
    "    elif blob.sentiment.polarity <= -0.5:\n",
    "        sentiment = 'negative'\n",
    "    else:\n",
    "        sentiment = 'neutral'\n",
    "    \n",
    "    single_data = {\"tweet\":bytes(text, 'utf-8').decode('utf-8', 'ignore'),\"sentiment_polarity\":sentiment}\n",
    "    data.append(single_data)"
   ]
  },
  {
   "cell_type": "code",
   "execution_count": null,
   "metadata": {},
   "outputs": [],
   "source": [
    "with open('data.csv', 'w',encoding='utf-8') as csvfile:\n",
    "    fieldnames = ['tweet', 'sentiment_polarity']\n",
    "    writer = csv.DictWriter(csvfile, fieldnames=fieldnames)\n",
    " \n",
    "    writer.writeheader()\n",
    "    writer.writerows(data)\n",
    " \n",
    "print(\"writing complete\")"
   ]
  },
  {
   "cell_type": "markdown",
   "metadata": {},
   "source": [
    "# Spanish version"
   ]
  },
  {
   "cell_type": "markdown",
   "metadata": {},
   "source": [
    "# [Using indicoio](https://indico.io/docs)"
   ]
  },
  {
   "cell_type": "code",
   "execution_count": 1,
   "metadata": {},
   "outputs": [],
   "source": [
    "import tweepy\n",
    "from textblob import TextBlob\n",
    "import csv\n",
    "\n",
    "consumer_key = ''\n",
    "consumer_secret = ''\n",
    "\n",
    "access_token = ''\n",
    "access_token_secret = ''\n",
    "\n",
    "auth = tweepy.OAuthHandler(consumer_key, consumer_secret)\n",
    "auth.set_access_token(access_token,access_token_secret)\n",
    "\n",
    "# Construct the API instance\n",
    "api = tweepy.API(auth)"
   ]
  },
  {
   "cell_type": "code",
   "execution_count": 41,
   "metadata": {},
   "outputs": [
    {
     "ename": "RateLimitError",
     "evalue": "[{'code': 88, 'message': 'Rate limit exceeded'}]",
     "output_type": "error",
     "traceback": [
      "\u001b[1;31m---------------------------------------------------------------------------\u001b[0m",
      "\u001b[1;31mRateLimitError\u001b[0m                            Traceback (most recent call last)",
      "\u001b[1;32m<ipython-input-41-46150803e62a>\u001b[0m in \u001b[0;36m<module>\u001b[1;34m()\u001b[0m\n\u001b[0;32m      1\u001b[0m \u001b[0mtweets\u001b[0m \u001b[1;33m=\u001b[0m \u001b[1;33m[\u001b[0m\u001b[1;33m]\u001b[0m\u001b[1;33m\u001b[0m\u001b[0m\n\u001b[0;32m      2\u001b[0m \u001b[1;32mwhile\u001b[0m \u001b[0mlen\u001b[0m\u001b[1;33m(\u001b[0m\u001b[0mtweets\u001b[0m\u001b[1;33m)\u001b[0m \u001b[1;33m<\u001b[0m \u001b[1;36m300\u001b[0m\u001b[1;33m:\u001b[0m\u001b[1;33m\u001b[0m\u001b[0m\n\u001b[1;32m----> 3\u001b[1;33m     \u001b[0mtweets_batch\u001b[0m \u001b[1;33m=\u001b[0m \u001b[0mapi\u001b[0m\u001b[1;33m.\u001b[0m\u001b[0msearch\u001b[0m\u001b[1;33m(\u001b[0m\u001b[1;34m'Pilsen'\u001b[0m\u001b[1;33m,\u001b[0m\u001b[0mlanguages\u001b[0m\u001b[1;33m=\u001b[0m\u001b[1;33m[\u001b[0m\u001b[1;34m\"sp\"\u001b[0m\u001b[1;33m]\u001b[0m\u001b[1;33m,\u001b[0m \u001b[0mtweet_mode\u001b[0m\u001b[1;33m=\u001b[0m\u001b[1;34m\"extended\"\u001b[0m\u001b[1;33m)\u001b[0m\u001b[1;33m\u001b[0m\u001b[0m\n\u001b[0m\u001b[0;32m      4\u001b[0m     \u001b[0mtweets_text\u001b[0m \u001b[1;33m=\u001b[0m \u001b[1;33m[\u001b[0m\u001b[0mtweet\u001b[0m\u001b[1;33m.\u001b[0m\u001b[0m_json\u001b[0m\u001b[1;33m[\u001b[0m\u001b[1;34m'retweeted_status'\u001b[0m\u001b[1;33m]\u001b[0m\u001b[1;33m[\u001b[0m\u001b[1;34m'full_text'\u001b[0m\u001b[1;33m]\u001b[0m \u001b[1;32mif\u001b[0m \u001b[1;34m'retweeted_status'\u001b[0m \u001b[1;32min\u001b[0m \u001b[0mtweet\u001b[0m\u001b[1;33m.\u001b[0m\u001b[0m_json\u001b[0m \u001b[1;32melse\u001b[0m \u001b[0mtweet\u001b[0m\u001b[1;33m.\u001b[0m\u001b[0m_json\u001b[0m\u001b[1;33m[\u001b[0m\u001b[1;34m'full_text'\u001b[0m\u001b[1;33m]\u001b[0m \u001b[1;32mfor\u001b[0m \u001b[0mtweet\u001b[0m \u001b[1;32min\u001b[0m \u001b[0mtweets_batch\u001b[0m \u001b[1;33m]\u001b[0m\u001b[1;33m\u001b[0m\u001b[0m\n\u001b[0;32m      5\u001b[0m     \u001b[0mtweets\u001b[0m\u001b[1;33m.\u001b[0m\u001b[0mextend\u001b[0m\u001b[1;33m(\u001b[0m\u001b[0mtweets_text\u001b[0m\u001b[1;33m)\u001b[0m\u001b[1;33m\u001b[0m\u001b[0m\n",
      "\u001b[1;32mD:\\ProgramData\\Miniconda3\\envs\\keras_gpu\\lib\\site-packages\\tweepy\\binder.py\u001b[0m in \u001b[0;36m_call\u001b[1;34m(*args, **kwargs)\u001b[0m\n\u001b[0;32m    248\u001b[0m             \u001b[1;32mreturn\u001b[0m \u001b[0mmethod\u001b[0m\u001b[1;33m\u001b[0m\u001b[0m\n\u001b[0;32m    249\u001b[0m         \u001b[1;32melse\u001b[0m\u001b[1;33m:\u001b[0m\u001b[1;33m\u001b[0m\u001b[0m\n\u001b[1;32m--> 250\u001b[1;33m             \u001b[1;32mreturn\u001b[0m \u001b[0mmethod\u001b[0m\u001b[1;33m.\u001b[0m\u001b[0mexecute\u001b[0m\u001b[1;33m(\u001b[0m\u001b[1;33m)\u001b[0m\u001b[1;33m\u001b[0m\u001b[0m\n\u001b[0m\u001b[0;32m    251\u001b[0m \u001b[1;33m\u001b[0m\u001b[0m\n\u001b[0;32m    252\u001b[0m     \u001b[1;31m# Set pagination mode\u001b[0m\u001b[1;33m\u001b[0m\u001b[1;33m\u001b[0m\u001b[0m\n",
      "\u001b[1;32mD:\\ProgramData\\Miniconda3\\envs\\keras_gpu\\lib\\site-packages\\tweepy\\binder.py\u001b[0m in \u001b[0;36mexecute\u001b[1;34m(self)\u001b[0m\n\u001b[0;32m    230\u001b[0m \u001b[1;33m\u001b[0m\u001b[0m\n\u001b[0;32m    231\u001b[0m                 \u001b[1;32mif\u001b[0m \u001b[0mis_rate_limit_error_message\u001b[0m\u001b[1;33m(\u001b[0m\u001b[0merror_msg\u001b[0m\u001b[1;33m)\u001b[0m\u001b[1;33m:\u001b[0m\u001b[1;33m\u001b[0m\u001b[0m\n\u001b[1;32m--> 232\u001b[1;33m                     \u001b[1;32mraise\u001b[0m \u001b[0mRateLimitError\u001b[0m\u001b[1;33m(\u001b[0m\u001b[0merror_msg\u001b[0m\u001b[1;33m,\u001b[0m \u001b[0mresp\u001b[0m\u001b[1;33m)\u001b[0m\u001b[1;33m\u001b[0m\u001b[0m\n\u001b[0m\u001b[0;32m    233\u001b[0m                 \u001b[1;32melse\u001b[0m\u001b[1;33m:\u001b[0m\u001b[1;33m\u001b[0m\u001b[0m\n\u001b[0;32m    234\u001b[0m                     \u001b[1;32mraise\u001b[0m \u001b[0mTweepError\u001b[0m\u001b[1;33m(\u001b[0m\u001b[0merror_msg\u001b[0m\u001b[1;33m,\u001b[0m \u001b[0mresp\u001b[0m\u001b[1;33m,\u001b[0m \u001b[0mapi_code\u001b[0m\u001b[1;33m=\u001b[0m\u001b[0mapi_error_code\u001b[0m\u001b[1;33m)\u001b[0m\u001b[1;33m\u001b[0m\u001b[0m\n",
      "\u001b[1;31mRateLimitError\u001b[0m: [{'code': 88, 'message': 'Rate limit exceeded'}]"
     ]
    }
   ],
   "source": [
    "tweets = []\n",
    "while len(tweets) < 300:\n",
    "    tweets_batch = api.search('Pilsen',languages=[\"sp\"], tweet_mode=\"extended\")\n",
    "    tweets_text = [tweet._json['retweeted_status']['full_text'] if 'retweeted_status' in tweet._json else tweet._json['full_text'] for tweet in tweets_batch ]\n",
    "    tweets.extend(tweets_text)\n",
    "    tweets = list(set(tweets))\n",
    "    "
   ]
  },
  {
   "cell_type": "code",
   "execution_count": 44,
   "metadata": {},
   "outputs": [
    {
     "name": "stdout",
     "output_type": "stream",
     "text": [
      "{'tweet': '@hdo14 @labettysoyyo La Pilsen de toda la vida!', 'sentiment_polarity': 'positive'}\n",
      "{'tweet': '✅Viernes 27 de Julio \\n💣La Segunda a 💯💣\\n🍹#TodoX50🍹\\n👸Toda La Noche\\U0001f934\\n🚺free cómo siempre\\n👸+Trago de regalo antes de 2:30 \\n🚹con la entrada ingresando antes de 2:30 Pilsen mini de regalo \\n#SoloEntuBoliche\\nCompartí /etiqueta ,gana consumiciones 🍾 https://t.co/rTptugsOC8', 'sentiment_polarity': 'positive'}\n",
      "{'tweet': 'Listen Pilsen, I know you’re on some gangster shit sometimes, but could you do it without blasting Post Malone?', 'sentiment_polarity': 'positive'}\n",
      "{'tweet': '#SabíasQue en 1951 se comienza a producir  Polar Pilsen en nuestra planta del oriente del país y un año después hicimos el lanzamiento en el Estadio Universitario de Caracas.', 'sentiment_polarity': 'neutral'}\n",
      "{'tweet': '@vanesshaav Shiiiiiit lmao by train too? You said Pilsen right?', 'sentiment_polarity': 'neutral'}\n",
      "{'tweet': '24 Pilsen murals that make Chicago a walking Latinx museum.\\n\\nhttps://t.co/3OyeyTjNAZ https://t.co/fm0WZ7V7Ci', 'sentiment_polarity': 'neutral'}\n",
      "{'tweet': '@malditaternura @atvpe Hay que preguntarle al premier si las heladas pueden ser cristal o pilsen.. 😁', 'sentiment_polarity': 'positive'}\n",
      "{'tweet': 'Todo indica que Lucy ana es la madre biológica de pato Pilsen', 'sentiment_polarity': 'neutral'}\n",
      "{'tweet': 'Altísima Pilsen. Sí la ve, cómprela. https://t.co/IxS0kx5O3B', 'sentiment_polarity': 'positive'}\n",
      "{'tweet': 'Despues de trotar 5 km, hay que come pie de limon+selladitos+pilsen++. Para recuperar energia y wea', 'sentiment_polarity': 'positive'}\n",
      "{'tweet': '1/4 n black label + 4 na grandeng pilsen, kaya p rin ni tibay yan 😂😂', 'sentiment_polarity': 'neutral'}\n",
      "{'tweet': 'Yo:  No voy a ser intensa.\\n\\nYo también: Hola, muchas gracias por la Pilsen de ayer, es la cerveza que más he disfrutado. Btw, te veías guapísimo en ese short color salmón, camisa blanca QuickSilver talla M, los Sperrys preciosos y las calcetas también.', 'sentiment_polarity': 'positive'}\n",
      "{'tweet': 'Não abandone a cerveja só porque é segunda feira! \\nE para começar a semana com tudo, que tal uma clássica Pilsen da @_eisenbahn_ \\n.\\n.\\n.\\nInscreva se no nosso canal… https://t.co/lpgWXOj1IL', 'sentiment_polarity': 'neutral'}\n",
      "{'tweet': 'Send una pilsen', 'sentiment_polarity': 'neutral'}\n",
      "{'tweet': '@claclarityyy Pero hindi ako nagrereklamo. Hahaha.\\n\\nAy. Sorry. Akala ko kasi Pale Pilsen eh. Hahaha. Pakita ka naman! Libre mo ko! :D', 'sentiment_polarity': 'neutral'}\n"
     ]
    }
   ],
   "source": [
    "import indicoio\n",
    "indicoio.config.api_key = '63c085ce46e16a7b70a899af65086333'\n",
    "\n",
    "sentiments = indicoio.sentiment(tweets_text, language = 'spanish')\n",
    "data = []\n",
    "for text,sentiment in zip(tweets_text,sentiments):\n",
    "    sentiment_value = indicoio.sentiment(text, language = 'spanish')\n",
    "\n",
    "    sentiment = ''\n",
    "    if sentiment_value >= 0.7:\n",
    "        sentiment = 'positive'\n",
    "    elif sentiment_value <= 0.3:\n",
    "        sentiment = 'negative'\n",
    "    else:\n",
    "        sentiment = 'neutral'\n",
    "    \n",
    "    single_data = {\"tweet\":bytes(text, 'utf-8').decode('utf-8', 'ignore'),\"sentiment_polarity\":sentiment}\n",
    "    data.append(single_data)\n",
    "    \n",
    "    print(single_data)\n"
   ]
  },
  {
   "cell_type": "code",
   "execution_count": 45,
   "metadata": {},
   "outputs": [
    {
     "name": "stdout",
     "output_type": "stream",
     "text": [
      "writing complete\n"
     ]
    }
   ],
   "source": [
    "with open('data.csv', 'w',encoding='utf-8') as csvfile:\n",
    "    fieldnames = ['tweet', 'sentiment_polarity']\n",
    "    writer = csv.DictWriter(csvfile, fieldnames=fieldnames)\n",
    " \n",
    "    writer.writeheader()\n",
    "    writer.writerows(data)\n",
    " \n",
    "print(\"writing complete\")"
   ]
  },
  {
   "cell_type": "code",
   "execution_count": null,
   "metadata": {},
   "outputs": [],
   "source": []
  }
 ],
 "metadata": {
  "kernelspec": {
   "display_name": "Python (keras_gpu)",
   "language": "python",
   "name": "keras_gpu"
  },
  "language_info": {
   "codemirror_mode": {
    "name": "ipython",
    "version": 3
   },
   "file_extension": ".py",
   "mimetype": "text/x-python",
   "name": "python",
   "nbconvert_exporter": "python",
   "pygments_lexer": "ipython3",
   "version": "3.5.5"
  }
 },
 "nbformat": 4,
 "nbformat_minor": 2
}
